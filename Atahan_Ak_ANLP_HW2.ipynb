{
 "cells": [
  {
   "cell_type": "code",
   "execution_count": null,
   "id": "8c31acf9-9092-4273-9241-c19001e5dae7",
   "metadata": {},
   "outputs": [
    {
     "name": "stdout",
     "output_type": "stream",
     "text": [
      "Veri seti 'dataset.csv' olarak kaydedildi.\n"
     ]
    }
   ],
   "source": [
    "import csv\n",
    "\n",
    "# Örnek veri seti 5 örnek 3 cümle\n",
    "data = [\n",
    "    {\"Sentence 1\": \"The cat is sitting on the mat.\", \n",
    "     \"Sentence 2\": \"A cat is resting on a rug.\", \n",
    "     \"Sentence 3\": \"The car is driving down the road.\"},\n",
    "    {\"Sentence 1\": \"Birds are flying in the sky.\", \n",
    "     \"Sentence 2\": \"A flock of birds is moving through the air.\", \n",
    "     \"Sentence 3\": \"It is raining heavily outside.\"},\n",
    "    {\"Sentence 1\": \"The dog is barking loudly in the yard.\", \n",
    "     \"Sentence 2\": \"A dog barks at the stranger.\", \n",
    "     \"Sentence 3\": \"The sun is shining brightly.\"},\n",
    "    {\"Sentence 1\": \"Children are playing soccer in the park.\", \n",
    "     \"Sentence 2\": \"Kids are kicking the ball around.\", \n",
    "     \"Sentence 3\": \"A tree is swaying in the wind.\"},\n",
    "    {\"Sentence 1\": \"A train is arriving at the station.\", \n",
    "     \"Sentence 2\": \"The locomotive is pulling into the platform.\", \n",
    "     \"Sentence 3\": \"Passengers are waiting in line.\"}\n",
    "]\n",
    "\n",
    "# CSV dosyasına yazma\n",
    "with open(\"dataset.csv\", mode=\"w\", newline=\"\", encoding=\"utf-8\") as file:\n",
    "    writer = csv.DictWriter(file, fieldnames=[\"Sentence 1\", \"Sentence 2\", \"Sentence 3\"])\n",
    "    writer.writeheader()  # Başlıkları yaz\n",
    "    writer.writerows(data)  # Verileri yaz\n",
    "\n",
    "print(\"Veri seti 'dataset.csv' olarak kaydedildi.\")\n"
   ]
  },
  {
   "cell_type": "code",
   "execution_count": 6,
   "id": "6e568525-f673-4afb-9044-04a30474ef91",
   "metadata": {},
   "outputs": [],
   "source": [
    "import os\n",
    "os.environ[\"HF_HUB_DISABLE_SYMLINKS_WARNING\"] = \"1\"\n"
   ]
  },
  {
   "cell_type": "code",
   "execution_count": 8,
   "id": "79fdbc75-4de1-4c6e-af81-c4ab95dc7e88",
   "metadata": {},
   "outputs": [],
   "source": [
    "from transformers import AutoTokenizer, AutoModel\n",
    "import torch\n",
    "\n",
    "# BERT modeli ve tokenizer\n",
    "model_name = \"bert-base-uncased\"\n",
    "tokenizer = AutoTokenizer.from_pretrained(model_name)\n",
    "model = AutoModel.from_pretrained(model_name)\n",
    "\n",
    "# Embedding fonksiyonu\n",
    "def get_embeddings(text, method=\"cls\"):\n",
    "    inputs = tokenizer(text, return_tensors=\"pt\", truncation=True, padding=True, max_length=128)\n",
    "    outputs = model(**inputs)\n",
    "    if method == \"cls\":\n",
    "        return outputs.last_hidden_state[:, 0, :].detach().numpy()  # [CLS] token\n",
    "    elif method == \"pooled\":\n",
    "        return outputs.pooler_output.detach().numpy()  # Pooled output\n"
   ]
  },
  {
   "cell_type": "code",
   "execution_count": 9,
   "id": "7335a821-2dc4-4ddf-be38-52be30cf92be",
   "metadata": {},
   "outputs": [],
   "source": [
    "import os\n",
    "os.environ[\"HF_HUB_DISABLE_SYMLINKS_WARNING\"] = \"1\""
   ]
  },
  {
   "cell_type": "code",
   "execution_count": 10,
   "id": "b0a162da-cb18-4aac-b417-7ed68f9aca80",
   "metadata": {},
   "outputs": [],
   "source": [
    "from sentence_transformers import SentenceTransformer\n",
    "\n",
    "# Sentence-BERT modeli\n",
    "sbert_model = SentenceTransformer('all-MiniLM-L6-v2')\n",
    "\n",
    "# Embedding fonksiyonu\n",
    "def get_sbert_embeddings(text):\n",
    "    return sbert_model.encode(text)"
   ]
  },
  {
   "cell_type": "code",
   "execution_count": null,
   "id": "eaa220e4-f0e0-4f7c-bd5c-2d81f58fef4c",
   "metadata": {},
   "outputs": [
    {
     "name": "stdout",
     "output_type": "stream",
     "text": [
      "Requirement already satisfied: sentence_transformers in c:\\users\\atahan\\anaconda3\\lib\\site-packages (3.3.1)\n",
      "Requirement already satisfied: transformers<5.0.0,>=4.41.0 in c:\\users\\atahan\\anaconda3\\lib\\site-packages (from sentence_transformers) (4.47.0)\n",
      "Requirement already satisfied: tqdm in c:\\users\\atahan\\anaconda3\\lib\\site-packages (from sentence_transformers) (4.66.4)\n",
      "Requirement already satisfied: torch>=1.11.0 in c:\\users\\atahan\\anaconda3\\lib\\site-packages (from sentence_transformers) (2.5.1)\n",
      "Requirement already satisfied: scikit-learn in c:\\users\\atahan\\anaconda3\\lib\\site-packages (from sentence_transformers) (1.4.2)\n",
      "Requirement already satisfied: scipy in c:\\users\\atahan\\anaconda3\\lib\\site-packages (from sentence_transformers) (1.13.1)\n",
      "Requirement already satisfied: huggingface-hub>=0.20.0 in c:\\users\\atahan\\anaconda3\\lib\\site-packages (from sentence_transformers) (0.26.3)\n",
      "Requirement already satisfied: Pillow in c:\\users\\atahan\\anaconda3\\lib\\site-packages (from sentence_transformers) (10.3.0)\n",
      "Requirement already satisfied: filelock in c:\\users\\atahan\\anaconda3\\lib\\site-packages (from huggingface-hub>=0.20.0->sentence_transformers) (3.13.1)\n",
      "Requirement already satisfied: fsspec>=2023.5.0 in c:\\users\\atahan\\anaconda3\\lib\\site-packages (from huggingface-hub>=0.20.0->sentence_transformers) (2024.3.1)\n",
      "Requirement already satisfied: packaging>=20.9 in c:\\users\\atahan\\anaconda3\\lib\\site-packages (from huggingface-hub>=0.20.0->sentence_transformers) (23.2)\n",
      "Requirement already satisfied: pyyaml>=5.1 in c:\\users\\atahan\\anaconda3\\lib\\site-packages (from huggingface-hub>=0.20.0->sentence_transformers) (6.0.1)\n",
      "Requirement already satisfied: requests in c:\\users\\atahan\\anaconda3\\lib\\site-packages (from huggingface-hub>=0.20.0->sentence_transformers) (2.32.2)\n",
      "Requirement already satisfied: typing-extensions>=3.7.4.3 in c:\\users\\atahan\\anaconda3\\lib\\site-packages (from huggingface-hub>=0.20.0->sentence_transformers) (4.11.0)\n",
      "Requirement already satisfied: networkx in c:\\users\\atahan\\anaconda3\\lib\\site-packages (from torch>=1.11.0->sentence_transformers) (3.2.1)\n",
      "Requirement already satisfied: jinja2 in c:\\users\\atahan\\anaconda3\\lib\\site-packages (from torch>=1.11.0->sentence_transformers) (3.1.4)\n",
      "Requirement already satisfied: setuptools in c:\\users\\atahan\\anaconda3\\lib\\site-packages (from torch>=1.11.0->sentence_transformers) (69.5.1)\n",
      "Requirement already satisfied: sympy==1.13.1 in c:\\users\\atahan\\anaconda3\\lib\\site-packages (from torch>=1.11.0->sentence_transformers) (1.13.1)\n",
      "Requirement already satisfied: mpmath<1.4,>=1.1.0 in c:\\users\\atahan\\anaconda3\\lib\\site-packages (from sympy==1.13.1->torch>=1.11.0->sentence_transformers) (1.3.0)\n",
      "Requirement already satisfied: colorama in c:\\users\\atahan\\anaconda3\\lib\\site-packages (from tqdm->sentence_transformers) (0.4.6)\n",
      "Requirement already satisfied: numpy>=1.17 in c:\\users\\atahan\\anaconda3\\lib\\site-packages (from transformers<5.0.0,>=4.41.0->sentence_transformers) (1.26.4)\n",
      "Requirement already satisfied: regex!=2019.12.17 in c:\\users\\atahan\\anaconda3\\lib\\site-packages (from transformers<5.0.0,>=4.41.0->sentence_transformers) (2023.10.3)\n",
      "Requirement already satisfied: tokenizers<0.22,>=0.21 in c:\\users\\atahan\\anaconda3\\lib\\site-packages (from transformers<5.0.0,>=4.41.0->sentence_transformers) (0.21.0)\n",
      "Requirement already satisfied: safetensors>=0.4.1 in c:\\users\\atahan\\anaconda3\\lib\\site-packages (from transformers<5.0.0,>=4.41.0->sentence_transformers) (0.4.5)\n",
      "Requirement already satisfied: joblib>=1.2.0 in c:\\users\\atahan\\anaconda3\\lib\\site-packages (from scikit-learn->sentence_transformers) (1.4.2)\n",
      "Requirement already satisfied: threadpoolctl>=2.0.0 in c:\\users\\atahan\\anaconda3\\lib\\site-packages (from scikit-learn->sentence_transformers) (2.2.0)\n",
      "Requirement already satisfied: MarkupSafe>=2.0 in c:\\users\\atahan\\anaconda3\\lib\\site-packages (from jinja2->torch>=1.11.0->sentence_transformers) (2.1.3)\n",
      "Requirement already satisfied: charset-normalizer<4,>=2 in c:\\users\\atahan\\anaconda3\\lib\\site-packages (from requests->huggingface-hub>=0.20.0->sentence_transformers) (2.0.4)\n",
      "Requirement already satisfied: idna<4,>=2.5 in c:\\users\\atahan\\anaconda3\\lib\\site-packages (from requests->huggingface-hub>=0.20.0->sentence_transformers) (3.7)\n",
      "Requirement already satisfied: urllib3<3,>=1.21.1 in c:\\users\\atahan\\anaconda3\\lib\\site-packages (from requests->huggingface-hub>=0.20.0->sentence_transformers) (2.2.2)\n",
      "Requirement already satisfied: certifi>=2017.4.17 in c:\\users\\atahan\\anaconda3\\lib\\site-packages (from requests->huggingface-hub>=0.20.0->sentence_transformers) (2024.8.30)\n",
      "Note: you may need to restart the kernel to use updated packages.\n"
     ]
    }
   ],
   "source": [
    "pip install sentence_transformers #kütüphane indirdim\n"
   ]
  },
  {
   "cell_type": "code",
   "execution_count": 15,
   "id": "262b6dfe-388d-4140-bd87-f78a82f9395d",
   "metadata": {},
   "outputs": [],
   "source": [
    "from sklearn.metrics.pairwise import cosine_similarity\n",
    "import numpy as np\n",
    "\n",
    "# Kosinüs benzerliğini hesaplama fonksiyonu\n",
    "def calculate_similarity(sentence1, sentence2, method=\"cls\"):\n",
    "    if method in [\"cls\", \"pooled\"]:\n",
    "        vec1 = get_embeddings(sentence1, method)\n",
    "        vec2 = get_embeddings(sentence2, method)\n",
    "    elif method == \"sbert\":\n",
    "        vec1 = get_sbert_embeddings(sentence1)\n",
    "        vec2 = get_sbert_embeddings(sentence2)\n",
    "    similarity = cosine_similarity([vec1.flatten()], [vec2.flatten()])\n",
    "    return similarity[0][0]\n"
   ]
  },
  {
   "cell_type": "code",
   "execution_count": null,
   "id": "8794c969-fda9-4035-8bea-67dd26ddee28",
   "metadata": {},
   "outputs": [
    {
     "name": "stdout",
     "output_type": "stream",
     "text": [
      "Sonuçlar başarıyla hesaplandı.\n",
      "{'Sentences': ('The cat is sitting on the mat.', 'A cat is resting on a rug.', 'The car is driving down the road.'), 'CLS': (0.84120286, 0.93609846, 0.8091303), 'Pooled': (0.9866842, 0.99512213, 0.9883174), 'SBERT': (0.71481824, 0.1373416, 0.13539922)}\n",
      "{'Sentences': ('Birds are flying in the sky.', 'A flock of birds is moving through the air.', 'It is raining heavily outside.'), 'CLS': (0.95398337, 0.87952065, 0.88785815), 'Pooled': (0.9978446, 0.9897523, 0.9883157), 'SBERT': (0.74088526, 0.1983135, 0.1941022)}\n",
      "{'Sentences': ('The dog is barking loudly in the yard.', 'A dog barks at the stranger.', 'The sun is shining brightly.'), 'CLS': (0.9311013, 0.9393015, 0.8986623), 'Pooled': (0.99086064, 0.9887873, 0.9714521), 'SBERT': (0.502006, 0.09380062, 0.0595571)}\n",
      "{'Sentences': ('Children are playing soccer in the park.', 'Kids are kicking the ball around.', 'A tree is swaying in the wind.'), 'CLS': (0.92700255, 0.9136472, 0.89860594), 'Pooled': (0.9972928, 0.9977866, 0.99633056), 'SBERT': (0.6288539, 0.10846183, 0.060851805)}\n",
      "{'Sentences': ('A train is arriving at the station.', 'The locomotive is pulling into the platform.', 'Passengers are waiting in line.'), 'CLS': (0.9507245, 0.8131833, 0.8387601), 'Pooled': (0.9959662, 0.9915755, 0.99448), 'SBERT': (0.577438, 0.41847464, 0.17116934)}\n"
     ]
    }
   ],
   "source": [
    "results = []\n",
    "\n",
    "for item in data:\n",
    "    s1, s2, s3 = item[\"Sentence 1\"], item[\"Sentence 2\"], item[\"Sentence 3\"]\n",
    "\n",
    "    #[CLS] Token (için cümleler arası benzerlikleri hesaplamak için calculate_similarity fonksiyonu kullandım)\n",
    "    cls_sim_12 = calculate_similarity(s1, s2, method=\"cls\")\n",
    "    cls_sim_13 = calculate_similarity(s1, s3, method=\"cls\")\n",
    "    cls_sim_23 = calculate_similarity(s2, s3, method=\"cls\")\n",
    "\n",
    "    # Pooled Embeddings (için cümleler arası benzerlikleri hesaplamak için calculate_similarity fonksiyonu kullandım)\n",
    "    pooled_sim_12 = calculate_similarity(s1, s2, method=\"pooled\")\n",
    "    pooled_sim_13 = calculate_similarity(s1, s3, method=\"pooled\")\n",
    "    pooled_sim_23 = calculate_similarity(s2, s3, method=\"pooled\")\n",
    "\n",
    "    # Sentence-BERT  (için cümleler arası benzerlikleri hesaplamak için calculate_similarity fonksiyonu kullandım)\n",
    "    sbert_sim_12 = calculate_similarity(s1, s2, method=\"sbert\")\n",
    "    sbert_sim_13 = calculate_similarity(s1, s3, method=\"sbert\")\n",
    "    sbert_sim_23 = calculate_similarity(s2, s3, method=\"sbert\")\n",
    "\n",
    "    results.append({\n",
    "        \"Sentences\": (s1, s2, s3),\n",
    "        \"CLS\": (cls_sim_12, cls_sim_13, cls_sim_23),\n",
    "        \"Pooled\": (pooled_sim_12, pooled_sim_13, pooled_sim_23),\n",
    "        \"SBERT\": (sbert_sim_12, sbert_sim_13, sbert_sim_23)\n",
    "    })\n",
    "\n",
    "print(\"Sonuçlar başarıyla hesaplandı.\")\n",
    "for result in results:\n",
    "    print(result)\n"
   ]
  },
  {
   "cell_type": "code",
   "execution_count": null,
   "id": "020a35a2-3f07-4e90-ab91-829993febc3f",
   "metadata": {},
   "outputs": [
    {
     "name": "stdout",
     "output_type": "stream",
     "text": [
      "Requirement already satisfied: data in c:\\users\\atahan\\anaconda3\\lib\\site-packages (0.4)\n",
      "Requirement already satisfied: six in c:\\users\\atahan\\anaconda3\\lib\\site-packages (from data) (1.16.0)\n",
      "Requirement already satisfied: decorator in c:\\users\\atahan\\anaconda3\\lib\\site-packages (from data) (5.1.1)\n",
      "Requirement already satisfied: funcsigs in c:\\users\\atahan\\anaconda3\\lib\\site-packages (from data) (1.0.2)\n",
      "Note: you may need to restart the kernel to use updated packages.\n"
     ]
    }
   ],
   "source": [
    "pip install data  #datayı built etmek içi kullandım"
   ]
  },
  {
   "cell_type": "code",
   "execution_count": null,
   "id": "09a0cf8b-d0b1-4059-92f0-c42b10af438d",
   "metadata": {},
   "outputs": [
    {
     "name": "stdout",
     "output_type": "stream",
     "text": [
      "CLS için ortalama benzerlik:\n",
      "  Sentence 1 & Sentence 2: 0.9208\n",
      "  Sentence 1 & Sentence 3: 0.8964\n",
      "  Sentence 2 & Sentence 3: 0.8666\n",
      "\n",
      "Pooled için ortalama benzerlik:\n",
      "  Sentence 1 & Sentence 2: 0.9937\n",
      "  Sentence 1 & Sentence 3: 0.9926\n",
      "  Sentence 2 & Sentence 3: 0.9878\n",
      "\n",
      "SBERT için ortalama benzerlik:\n",
      "  Sentence 1 & Sentence 2: 0.6328\n",
      "  Sentence 1 & Sentence 3: 0.1913\n",
      "  Sentence 2 & Sentence 3: 0.1242\n",
      "\n"
     ]
    }
   ],
   "source": [
    "# Ortalama benzerlik hesaplama(burada avg_sim methou kullanarak yaptım 1-2, 1-3, 2-3 Sentence 1 2 ve 3 arasındaki benzerlik bakıyor. )\n",
    "def average_similarity(results, method):\n",
    "    sim_12 = np.mean([r[method][0] for r in results])\n",
    "    sim_13 = np.mean([r[method][1] for r in results])\n",
    "    sim_23 = np.mean([r[method][2] for r in results])\n",
    "    return sim_12, sim_13, sim_23\n",
    "\n",
    "methods = [\"CLS\", \"Pooled\", \"SBERT\"]\n",
    "overall_averages = {method: average_similarity(results, method) for method in methods}\n",
    "\n",
    "for method in methods:\n",
    "    avg_sim_12, avg_sim_13, avg_sim_23 = overall_averages[method]\n",
    "    print(f\"{method} için ortalama benzerlik:\")\n",
    "    print(f\"  Sentence 1 & Sentence 2: {avg_sim_12:.4f}\")\n",
    "    print(f\"  Sentence 1 & Sentence 3: {avg_sim_13:.4f}\")\n",
    "    print(f\"  Sentence 2 & Sentence 3: {avg_sim_23:.4f}\")\n",
    "    print()\n"
   ]
  },
  {
   "cell_type": "code",
   "execution_count": null,
   "id": "c3407a2e-a4a6-44e8-83a5-60d9e5073763",
   "metadata": {},
   "outputs": [],
   "source": [
    "## Kendi yorumum;\n",
    "\n",
    "#CLS: Cümleler arasında yeterince ayrım yapamamış.\n",
    "\n",
    "#Pooled Embeddings: Tüm çiftler için aşırı yüksek benzerlik değerleri ürettiği için anlam farklarını yakalayamamış.\n",
    "\n",
    "#S-BERT: Benzer olan ve olmayan cümleler arasında en net ayrımı yapan yöntemdir. Bu yüzden en iyi çalışan yöntem S-BERT'dir.\n",
    "\n",
    "\n",
    "#Not: S-BERT’in düşük skorlar vermesi kötü bir sonuç gibi görünebilir, \n",
    "# ancak burada önemli olan, benzer cümleler için yüksek, farklı cümleler için düşük skorlar verebilmesidir. Bu görevi en iyi şekilde başarmış."
   ]
  }
 ],
 "metadata": {
  "kernelspec": {
   "display_name": "Python 3 (ipykernel)",
   "language": "python",
   "name": "python3"
  },
  "language_info": {
   "codemirror_mode": {
    "name": "ipython",
    "version": 3
   },
   "file_extension": ".py",
   "mimetype": "text/x-python",
   "name": "python",
   "nbconvert_exporter": "python",
   "pygments_lexer": "ipython3",
   "version": "3.12.4"
  }
 },
 "nbformat": 4,
 "nbformat_minor": 5
}
